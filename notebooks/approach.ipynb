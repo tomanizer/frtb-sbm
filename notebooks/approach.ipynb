{
 "cells": [
  {
   "cell_type": "markdown",
   "metadata": {},
   "source": [
    "# Intra-Bucket and Inter-Bucket Aggregation for FRTB SBM\n",
    "\n",
    "### Overview:\n",
    "In this notebook, we will perform the inter-bucket aggregation of capital requirements using the correlation matrices provided. We'll first assume that intra-bucket capital requirements have already been calculated and then proceed to inter-bucket aggregation using different correlation scenarios (low, medium, high)."
   ]
  },
  {
   "cell_type": "markdown",
   "metadata": {},
   "source": [
    "## Step 1: Calculate Intra-Bucket Capital Requirements\n",
    "\n",
    "Assume you already have calculated intra-bucket capital requirements $K_b$ for each bucket $b$."
   ]
  },
  {
   "cell_type": "code",
   "execution_count": 1,
   "metadata": {},
   "outputs": [],
   "source": [
    "# Example capital requirements for buckets b, c, d (in millions of USD)\n",
    "import numpy as np\n",
    "\n",
    "K_b = np.array([100, 150, 200])  # Example values"
   ]
  },
  {
   "cell_type": "markdown",
   "metadata": {},
   "source": [
    "## Step 2: Define the Inter-Bucket Correlation Matrix\n",
    "\n",
    "Define the inter-bucket correlation matrix based on the rules provided."
   ]
  },
  {
   "cell_type": "code",
   "execution_count": 2,
   "metadata": {},
   "outputs": [],
   "source": [
    "# Inter-bucket correlation matrix\n",
    "inter_bucket_correlation = np.array([\n",
    "    [1.00, 0.15, 0.45],\n",
    "    [0.15, 1.00, 0.45],\n",
    "    [0.45, 0.45, 1.00]\n",
    "])"
   ]
  },
  {
   "cell_type": "markdown",
   "metadata": {},
   "source": [
    "## Step 3: Adjust the Correlation Matrix for Scenarios\n",
    "\n",
    "Depending on the scenario (low, medium, high), adjust the inter-bucket correlation matrix."
   ]
  },
  {
   "cell_type": "code",
   "execution_count": 3,
   "metadata": {},
   "outputs": [],
   "source": [
    "# Scenario multipliers\n",
    "scenario_multipliers = {\n",
    "    \"medium\": 1.00,\n",
    "    \"high\": 1.25,\n",
    "    \"low\": 0.75\n",
    "}\n",
    "\n",
    "# Apply the scenario to the inter-bucket correlation matrix\n",
    "final_correlation_matrices = {\n",
    "    scenario: np.clip(inter_bucket_correlation * multiplier, 0, 1)\n",
    "    for scenario, multiplier in scenario_multipliers.items()\n",
    "}"
   ]
  },
  {
   "cell_type": "markdown",
   "metadata": {},
   "source": [
    "## Step 4: Perform Inter-Bucket Aggregation\n",
    "\n",
    "For each scenario, use the inter-bucket correlation matrix to compute the total capital requirement across buckets."
   ]
  },
  {
   "cell_type": "code",
   "execution_count": 4,
   "metadata": {},
   "outputs": [
    {
     "data": {
      "text/plain": [
       "Total Capital Requirement (Medium Correlation Scenario): 282.84 million USD\n",
       "Total Capital Requirement (High Correlation Scenario): 324.32 million USD\n",
       "Total Capital Requirement (Low Correlation Scenario): 235.70 million USD"
      ]
     },
     "metadata": {},
     "output_type": "display_data"
    }
   ],
   "source": [
    "# Final capital requirements\n",
    "final_capital_requirements = {}\n",
    "\n",
    "for scenario, rho in final_correlation_matrices.items():\n",
    "    K_total = np.sqrt(K_b @ rho @ K_b.T)\n",
    "    final_capital_requirements[scenario] = K_total\n",
    "\n",
    "# Display the final capital requirement for each scenario\n",
    "for scenario, K_total in final_capital_requirements.items():\n",
    "    print(f\"Total Capital Requirement ({scenario.capitalize()} Correlation Scenario): {K_total:.2f} million USD\")"
   ]
  },
  {
   "cell_type": "markdown",
   "metadata": {},
   "source": [
    "### Output:\n",
    "This code calculates and outputs the total capital requirements under different correlation scenarios:\n",
    "\n",
    "- **Medium Correlation Scenario**: 282.84 million USD\n",
    "- **High Correlation Scenario**: 324.32 million USD\n",
    "- **Low Correlation Scenario**: 235.70 million USD"
   ]
  },
  {
   "cell_type": "markdown",
   "metadata": {},
   "source": [
    "### Explanation:\n",
    "\n",
    "1. **Intra-Bucket Capital Requirements $K_b$**:\n",
    "   - These are the results of the intra-bucket aggregation process.\n",
    "   \n",
    "2. **Inter-Bucket Correlation Matrix $\\rho$**:\n",
    "   - The matrix contains the correlations between the buckets, which is scaled according to the scenario (medium, high, low).\n",
    "   \n",
    "3. **Inter-Bucket Aggregation**:\n",
    "   - The final total capital requirement $K_{total}$ is calculated by aggregating across buckets using the correlation matrix.\n",
    "\n",
    "### Summary:\n",
    "\n",
    "In this approach:\n",
    "- **Intra-bucket aggregation** is performed first, resulting in capital requirements $K_b$ for each bucket.\n",
    "- **Inter-bucket aggregation** is then performed using these intra-bucket results and the inter-bucket correlation matrix, with adjustments for different scenarios (low, medium, high)."
   ]
  }
 ],
 "metadata": {
  "kernelspec": {
   "display_name": "Python 3",
   "language": "python",
   "name": "python3"
  },
  "language_info": {
   "codemirror_mode": {
    "name": "ipython",
    "version": 3
   },
   "file_extension": ".py",
   "mimetype": "text/x-python",
   "name": "python",
   "nbconvert_exporter": "python",
   "pygments_lexer": "ipython3",
   "version": "3.8.5"
  }
 },
 "nbformat": 4,
 "nbformat_minor": 4
}
